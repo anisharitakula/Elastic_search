{
 "cells": [
  {
   "cell_type": "code",
   "execution_count": 2,
   "id": "78b6f462",
   "metadata": {},
   "outputs": [
    {
     "name": "stdout",
     "output_type": "stream",
     "text": [
      "Collecting elasticsearch\n",
      "  Downloading elasticsearch-8.7.0-py3-none-any.whl (387 kB)\n",
      "\u001b[2K     \u001b[90m━━━━━━━━━━━━━━━━━━━━━━━━━━━━━━━━━━━━━━━\u001b[0m \u001b[32m387.9/387.9 kB\u001b[0m \u001b[31m4.5 MB/s\u001b[0m eta \u001b[36m0:00:00\u001b[0m00:01\u001b[0m00:01\u001b[0m\n",
      "\u001b[?25hCollecting elastic-transport<9,>=8\n",
      "  Downloading elastic_transport-8.4.0-py3-none-any.whl (59 kB)\n",
      "\u001b[2K     \u001b[90m━━━━━━━━━━━━━━━━━━━━━━━━━━━━━━━━━━━━━━━━\u001b[0m \u001b[32m59.5/59.5 kB\u001b[0m \u001b[31m1.7 MB/s\u001b[0m eta \u001b[36m0:00:00\u001b[0m\n",
      "\u001b[?25hRequirement already satisfied: certifi in /opt/anaconda3/lib/python3.9/site-packages (from elastic-transport<9,>=8->elasticsearch) (2022.9.24)\n",
      "Requirement already satisfied: urllib3<2,>=1.26.2 in /opt/anaconda3/lib/python3.9/site-packages (from elastic-transport<9,>=8->elasticsearch) (1.26.11)\n",
      "Installing collected packages: elastic-transport, elasticsearch\n",
      "Successfully installed elastic-transport-8.4.0 elasticsearch-8.7.0\n"
     ]
    }
   ],
   "source": [
    "!pip install elasticsearch"
   ]
  },
  {
   "cell_type": "code",
   "execution_count": 3,
   "id": "fcb51153",
   "metadata": {},
   "outputs": [
    {
     "data": {
      "text/plain": [
       "{'name': '227b6a12b032',\n",
       " 'cluster_name': 'docker-cluster',\n",
       " 'cluster_uuid': '9JOSdrovS96KYgF43cJR5g',\n",
       " 'version': {'number': '8.7.1',\n",
       "  'build_flavor': 'default',\n",
       "  'build_type': 'docker',\n",
       "  'build_hash': 'f229ed3f893a515d590d0f39b05f68913e2d9b53',\n",
       "  'build_date': '2023-04-27T04:33:42.127815583Z',\n",
       "  'build_snapshot': False,\n",
       "  'lucene_version': '9.5.0',\n",
       "  'minimum_wire_compatibility_version': '7.17.0',\n",
       "  'minimum_index_compatibility_version': '7.0.0'},\n",
       " 'tagline': 'You Know, for Search'}"
      ]
     },
     "execution_count": 3,
     "metadata": {},
     "output_type": "execute_result"
    }
   ],
   "source": [
    "from elasticsearch import Elasticsearch\n",
    "\n",
    "es = Elasticsearch(\"http://localhost:9200\")\n",
    "es.info().body"
   ]
  },
  {
   "cell_type": "code",
   "execution_count": 4,
   "id": "27dd09c6",
   "metadata": {},
   "outputs": [
    {
     "data": {
      "text/plain": [
       "'/Users/anisharitakula/Manning_NLP_project/Search_Elasticsearch_docker'"
      ]
     },
     "execution_count": 4,
     "metadata": {},
     "output_type": "execute_result"
    }
   ],
   "source": [
    "import os\n",
    "os.getcwd()"
   ]
  },
  {
   "cell_type": "code",
   "execution_count": 5,
   "id": "c4414a0f",
   "metadata": {},
   "outputs": [],
   "source": [
    "#Loading data\n",
    "import json\n",
    "with open ('data_1.json','r') as file:\n",
    "    data=json.load(file)"
   ]
  },
  {
   "cell_type": "code",
   "execution_count": 10,
   "id": "8e706238",
   "metadata": {},
   "outputs": [
    {
     "data": {
      "text/plain": [
       "{'section_title': 'Summary',\n",
       " 'text': 'Pandemic,Summary\\nA pandemic (from Greek πᾶν, pan, \"all\" and δῆμος, demos, \"people\") is an epidemic of an infectious disease that has spread across a large region, for instance multiple continents or worldwide, affecting a substantial number of people. A widespread endemic disease with a stable number of infected people is not a pandemic. Widespread endemic diseases with a stable number of infected people such as recurrences of seasonal influenza are generally excluded as they occur simultaneously in large regions of the globe rather than being spread worldwide.\\nThroughout human history, there have been a number of pandemics of diseases such as smallpox and tuberculosis. The most fatal pandemic in recorded history was the Black Death (also known as The Plague), which killed an estimated 75–200 million people in the 14th century. The term was not used yet but was for later pandemics including the 1918 influenza pandemic (Spanish flu). Current pandemics include COVID-19 (SARS-CoV-2) and HIV/AIDS.',\n",
       " 'main_section': 'Summary',\n",
       " 'article_title': 'Pandemic',\n",
       " 'source_url': 'https://en.wikipedia.org/wiki/Pandemic',\n",
       " 'page_id': 24255,\n",
       " 'tags': 'Pandemic,Summary',\n",
       " 'section_number': 0}"
      ]
     },
     "execution_count": 10,
     "metadata": {},
     "output_type": "execute_result"
    }
   ],
   "source": [
    "data[0]"
   ]
  },
  {
   "cell_type": "code",
   "execution_count": 21,
   "id": "d275830b",
   "metadata": {},
   "outputs": [
    {
     "data": {
      "text/plain": [
       "ObjectApiResponse({'acknowledged': True, 'shards_acknowledged': True, 'index': 'cpd'})"
      ]
     },
     "execution_count": 21,
     "metadata": {},
     "output_type": "execute_result"
    }
   ],
   "source": [
    "#Creating an index\n",
    "mappings = {\n",
    "        \"properties\": {\n",
    "            \"section_title\": {\"type\": \"text\", \"analyzer\": \"english\"},\n",
    "            \"text\": {\"type\": \"text\", \"analyzer\": \"standard\"},\n",
    "            \"main_section\": {\"type\": \"text\", \"analyzer\": \"standard\"},\n",
    "            \"article_title\": {\"type\": \"text\", \"analyzer\": \"standard\"},\n",
    "            \"source_url\": {\"type\": \"text\", \"analyzer\": \"standard\"},\n",
    "            \"page_id\": {\"type\": \"integer\"},\n",
    "            \"tags\": {\"type\": \"text\"},\n",
    "            \"section_number\": {\"type\": \"integer\"}\n",
    "    }\n",
    "}\n",
    "es.indices.create(index=\"cpd\", mappings=mappings)"
   ]
  },
  {
   "cell_type": "code",
   "execution_count": 25,
   "id": "d4b50ce1",
   "metadata": {},
   "outputs": [],
   "source": [
    "#Adding elements to an index one by one\n",
    "for idx,doc in enumerate(data):\n",
    "    es.index(index=\"cpd\",id=idx,document=doc)\n"
   ]
  },
  {
   "cell_type": "code",
   "execution_count": 19,
   "id": "84b32707",
   "metadata": {},
   "outputs": [
    {
     "data": {
      "text/plain": [
       "ObjectApiResponse({'acknowledged': True})"
      ]
     },
     "execution_count": 19,
     "metadata": {},
     "output_type": "execute_result"
    }
   ],
   "source": [
    "#For deleting an index\n",
    "es.options(ignore_status=[400,404]).indices.delete(index='cpd')"
   ]
  },
  {
   "cell_type": "code",
   "execution_count": 26,
   "id": "398628d9",
   "metadata": {},
   "outputs": [
    {
     "data": {
      "text/plain": [
       "ListApiResponse([{'epoch': '1684727116', 'timestamp': '03:45:16', 'count': '401'}])"
      ]
     },
     "execution_count": 26,
     "metadata": {},
     "output_type": "execute_result"
    }
   ],
   "source": [
    "es.indices.refresh(index=\"cpd\")\n",
    "es.cat.count(index=\"cpd\", format=\"json\")"
   ]
  },
  {
   "cell_type": "code",
   "execution_count": 29,
   "id": "7d7ff1ce",
   "metadata": {},
   "outputs": [
    {
     "data": {
      "text/plain": [
       "<bound method IndicesClient.get_alias of <elasticsearch._sync.client.indices.IndicesClient object at 0x7fc7f04c4040>>"
      ]
     },
     "execution_count": 29,
     "metadata": {},
     "output_type": "execute_result"
    }
   ],
   "source": [
    "es.indices.get_alias"
   ]
  },
  {
   "cell_type": "code",
   "execution_count": 30,
   "id": "546fcd80",
   "metadata": {},
   "outputs": [
    {
     "data": {
      "text/plain": [
       "ListApiResponse([{'epoch': '1684727423', 'timestamp': '03:50:23', 'count': '401'}])"
      ]
     },
     "execution_count": 30,
     "metadata": {},
     "output_type": "execute_result"
    }
   ],
   "source": [
    "es.cat.count(index=\"cpd\",format=\"json\")"
   ]
  },
  {
   "cell_type": "code",
   "execution_count": null,
   "id": "4b19588c",
   "metadata": {},
   "outputs": [],
   "source": []
  }
 ],
 "metadata": {
  "kernelspec": {
   "display_name": "Python 3 (ipykernel)",
   "language": "python",
   "name": "python3"
  },
  "language_info": {
   "codemirror_mode": {
    "name": "ipython",
    "version": 3
   },
   "file_extension": ".py",
   "mimetype": "text/x-python",
   "name": "python",
   "nbconvert_exporter": "python",
   "pygments_lexer": "ipython3",
   "version": "3.9.13"
  }
 },
 "nbformat": 4,
 "nbformat_minor": 5
}
