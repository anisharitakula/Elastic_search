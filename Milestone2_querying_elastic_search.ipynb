{
 "cells": [
  {
   "cell_type": "code",
   "execution_count": 1,
   "id": "6ebee0bb",
   "metadata": {},
   "outputs": [
    {
     "name": "stdout",
     "output_type": "stream",
     "text": [
      "Requirement already satisfied: elasticsearch in /opt/anaconda3/lib/python3.9/site-packages (8.7.0)\n",
      "Requirement already satisfied: elastic-transport<9,>=8 in /opt/anaconda3/lib/python3.9/site-packages (from elasticsearch) (8.4.0)\n",
      "Requirement already satisfied: urllib3<2,>=1.26.2 in /opt/anaconda3/lib/python3.9/site-packages (from elastic-transport<9,>=8->elasticsearch) (1.26.11)\n",
      "Requirement already satisfied: certifi in /opt/anaconda3/lib/python3.9/site-packages (from elastic-transport<9,>=8->elasticsearch) (2022.9.24)\n"
     ]
    }
   ],
   "source": [
    "!pip install elasticsearch"
   ]
  },
  {
   "cell_type": "code",
   "execution_count": 6,
   "id": "ffbaa5d5",
   "metadata": {},
   "outputs": [
    {
     "data": {
      "text/plain": [
       "{'name': '4b3c48fd7a26',\n",
       " 'cluster_name': 'docker-cluster',\n",
       " 'cluster_uuid': 'udS8LAh9SrGEj8R5-bY5yg',\n",
       " 'version': {'number': '8.7.1',\n",
       "  'build_flavor': 'default',\n",
       "  'build_type': 'docker',\n",
       "  'build_hash': 'f229ed3f893a515d590d0f39b05f68913e2d9b53',\n",
       "  'build_date': '2023-04-27T04:33:42.127815583Z',\n",
       "  'build_snapshot': False,\n",
       "  'lucene_version': '9.5.0',\n",
       "  'minimum_wire_compatibility_version': '7.17.0',\n",
       "  'minimum_index_compatibility_version': '7.0.0'},\n",
       " 'tagline': 'You Know, for Search'}"
      ]
     },
     "execution_count": 6,
     "metadata": {},
     "output_type": "execute_result"
    }
   ],
   "source": [
    "from elasticsearch import Elasticsearch\n",
    "\n",
    "es = Elasticsearch(\"http://localhost:9200\")\n",
    "es.info().body"
   ]
  },
  {
   "cell_type": "code",
   "execution_count": 7,
   "id": "98f48df1",
   "metadata": {},
   "outputs": [
    {
     "data": {
      "text/plain": [
       "ListApiResponse([{'epoch': '1684731780', 'timestamp': '05:03:00', 'count': '401'}])"
      ]
     },
     "execution_count": 7,
     "metadata": {},
     "output_type": "execute_result"
    }
   ],
   "source": [
    "es.cat.count(index=\"cpd\",format=\"json\")"
   ]
  },
  {
   "cell_type": "code",
   "execution_count": 13,
   "id": "14d00926",
   "metadata": {},
   "outputs": [
    {
     "data": {
      "text/plain": [
       "ObjectApiResponse({'cpd': {'mappings': {'properties': {'article_title': {'type': 'text', 'analyzer': 'standard'}, 'main_section': {'type': 'text', 'analyzer': 'standard'}, 'page_id': {'type': 'integer'}, 'section_number': {'type': 'integer'}, 'section_title': {'type': 'text', 'analyzer': 'english'}, 'source_url': {'type': 'text', 'analyzer': 'standard'}, 'tags': {'type': 'text'}, 'text': {'type': 'text', 'analyzer': 'standard'}}}}})"
      ]
     },
     "execution_count": 13,
     "metadata": {},
     "output_type": "execute_result"
    }
   ],
   "source": [
    "mapping = es.indices.get_mapping(index=\"cpd\")\n",
    "mapping"
   ]
  },
  {
   "cell_type": "code",
   "execution_count": 55,
   "id": "b91e97f9",
   "metadata": {},
   "outputs": [
    {
     "data": {
      "text/plain": [
       "ObjectApiResponse({'_index': 'cpd', '_id': '1', '_version': 1, '_seq_no': 1, '_primary_term': 1, 'found': True, '_source': {'section_title': 'Definition', 'text': 'Pandemic,Definition\\nA pandemic is an epidemic occurring on a scale that crosses international boundaries, usually affecting people on a worldwide scale. A disease or condition is not a pandemic merely because it is widespread or kills many people; it must also be infectious. For instance, cancer is responsible for many deaths but is not considered a pandemic because the disease is neither infectious nor contagious.', 'main_section': 'Definition', 'article_title': 'Pandemic', 'source_url': 'https://en.wikipedia.org/wiki/Pandemic', 'page_id': 24255, 'tags': 'Pandemic,Definition', 'section_number': 1}})"
      ]
     },
     "execution_count": 55,
     "metadata": {},
     "output_type": "execute_result"
    }
   ],
   "source": [
    "res = es.get(index=\"cpd\", id=1)\n",
    "res"
   ]
  },
  {
   "cell_type": "code",
   "execution_count": 79,
   "id": "360085b2",
   "metadata": {},
   "outputs": [
    {
     "name": "stderr",
     "output_type": "stream",
     "text": [
      "/var/folders/84/skgmh_gx5bx_zpl3v_kjpwym0000gn/T/ipykernel_43750/2776792895.py:3: DeprecationWarning: The 'body' parameter is deprecated and will be removed in a future version. Instead use individual parameters.\n",
      "  res=es.search(index=\"cpd\", body=query_body)\n"
     ]
    }
   ],
   "source": [
    "#Query using match\n",
    "query_body={'query':{'match':{'text':'World Health Organization'}},'fields':['article_title','section_number'],'_source':False}\n",
    "res=es.search(index=\"cpd\", body=query_body)"
   ]
  },
  {
   "cell_type": "code",
   "execution_count": 80,
   "id": "170f28e7",
   "metadata": {},
   "outputs": [
    {
     "data": {
      "text/plain": [
       "166"
      ]
     },
     "execution_count": 80,
     "metadata": {},
     "output_type": "execute_result"
    }
   ],
   "source": [
    "res['hits']['total']['value']"
   ]
  },
  {
   "cell_type": "code",
   "execution_count": 50,
   "id": "3c8e989e",
   "metadata": {},
   "outputs": [
    {
     "data": {
      "text/plain": [
       "ObjectApiResponse({'took': 5, 'timed_out': False, '_shards': {'total': 1, 'successful': 1, 'skipped': 0, 'failed': 0}, 'hits': {'total': {'value': 13, 'relation': 'eq'}, 'max_score': 3.6607487, 'hits': [{'_index': 'cpd', '_id': '46', '_score': 3.6607487, 'fields': {'article_title': ['Antonine Plague'], 'section_number': [0]}}, {'_index': 'cpd', '_id': '47', '_score': 3.6607487, 'fields': {'article_title': ['Antonine Plague'], 'section_number': [1]}}, {'_index': 'cpd', '_id': '48', '_score': 3.6607487, 'fields': {'article_title': ['Antonine Plague'], 'section_number': [3]}}, {'_index': 'cpd', '_id': '49', '_score': 3.6607487, 'fields': {'article_title': ['Antonine Plague'], 'section_number': [4]}}, {'_index': 'cpd', '_id': '50', '_score': 3.6607487, 'fields': {'article_title': ['Antonine Plague'], 'section_number': [5]}}, {'_index': 'cpd', '_id': '51', '_score': 3.6607487, 'fields': {'article_title': ['Antonine Plague'], 'section_number': [6]}}, {'_index': 'cpd', '_id': '52', '_score': 3.6607487, 'fields': {'article_title': ['Antonine Plague'], 'section_number': [8]}}, {'_index': 'cpd', '_id': '256', '_score': 3.0989099, 'fields': {'article_title': ['Plague of Cyprian'], 'section_number': [0]}}, {'_index': 'cpd', '_id': '257', '_score': 3.0989099, 'fields': {'article_title': ['Plague of Cyprian'], 'section_number': [1]}}, {'_index': 'cpd', '_id': '258', '_score': 3.0989099, 'fields': {'article_title': ['Plague of Cyprian'], 'section_number': [2]}}]}})"
      ]
     },
     "execution_count": 50,
     "metadata": {},
     "output_type": "execute_result"
    }
   ],
   "source": [
    "res"
   ]
  },
  {
   "cell_type": "code",
   "execution_count": 81,
   "id": "08636319",
   "metadata": {},
   "outputs": [
    {
     "name": "stderr",
     "output_type": "stream",
     "text": [
      "/var/folders/84/skgmh_gx5bx_zpl3v_kjpwym0000gn/T/ipykernel_43750/1934783922.py:3: DeprecationWarning: The 'body' parameter is deprecated and will be removed in a future version. Instead use individual parameters.\n",
      "  res1=es.search(index=\"cpd\", body=query_body1)\n"
     ]
    }
   ],
   "source": [
    "#Query using term\n",
    "query_body1={'query':{'term':{'article_title':'Antonine Plague'}},'fields':['article_title','section_number'],'_source':False}\n",
    "res1=es.search(index=\"cpd\", body=query_body1)"
   ]
  },
  {
   "cell_type": "code",
   "execution_count": 82,
   "id": "22357822",
   "metadata": {},
   "outputs": [
    {
     "data": {
      "text/plain": [
       "0"
      ]
     },
     "execution_count": 82,
     "metadata": {},
     "output_type": "execute_result"
    }
   ],
   "source": [
    "res1['hits']['total']['value']"
   ]
  },
  {
   "cell_type": "code",
   "execution_count": 74,
   "id": "f294d212",
   "metadata": {},
   "outputs": [
    {
     "name": "stderr",
     "output_type": "stream",
     "text": [
      "/var/folders/84/skgmh_gx5bx_zpl3v_kjpwym0000gn/T/ipykernel_43750/2339947797.py:9: DeprecationWarning: The 'body' parameter is deprecated and will be removed in a future version. Instead use individual parameters.\n",
      "  res2=es.search(index=\"cpd\",body=query_body2)\n"
     ]
    }
   ],
   "source": [
    "query_body2={'query':\n",
    "                 {'bool':\n",
    "                      {'must':\n",
    "                           {'match':{'text':'World Health Organization'}},\n",
    "                      'must_not':\n",
    "                           {'match':{'section_title':'External links'}}}\n",
    "                 }\n",
    "            }\n",
    "res2=es.search(index=\"cpd\",body=query_body2)"
   ]
  },
  {
   "cell_type": "code",
   "execution_count": 76,
   "id": "f1f9875c",
   "metadata": {},
   "outputs": [
    {
     "data": {
      "text/plain": [
       "ObjectApiResponse({'took': 8, 'timed_out': False, '_shards': {'total': 1, 'successful': 1, 'skipped': 0, 'failed': 0}, 'hits': {'total': {'value': 158, 'relation': 'eq'}, 'max_score': 7.7753215, 'hits': [{'_index': 'cpd', '_id': '177', '_score': 7.7753215, '_source': {'section_title': 'Summary', 'text': 'Johns Hopkins Center for Health Security,Summary\\nThe Johns Hopkins Center for Health Security (abbreviated CHS; previously the UPMC Center for Health Security, the Center for Biosecurity of UPMC, and the Johns Hopkins Center for Civilian Biodefense Strategies) is an independent, nonprofit organization of the Johns Hopkins Bloomberg School of Public Health, and part of the Environmental Health and Engineering department. It is concerned with the areas of health consequences from epidemics and disasters as well as averting biological weapons development, and implications of biosecurity for the bioeconomy. It is a think tank that does policy research and gives policy recommendations to the United States government as well as the World Health Organization and the UN Biological Weapons Convention.', 'main_section': 'Summary', 'article_title': 'Johns Hopkins Center for Health Security', 'source_url': 'https://en.wikipedia.org/wiki/Johns_Hopkins_Center_for_Health_Security', 'page_id': 11008433, 'tags': 'Johns Hopkins Center for Health Security,Summary', 'section_number': 0}}, {'_index': 'cpd', '_id': '282', '_score': 7.602386, '_source': {'section_title': 'Further reading', 'text': '1929–1930 psittacosis pandemic,Further reading,References\\nAntonin Morange (1895). De la psittacose ou infection spéciale déterminée par les perruches. Médecine de Paris.\\nWeekly Epidemiological Record. World Health Organization; IRIS', 'main_section': 'Further reading', 'article_title': '1929–1930 psittacosis pandemic', 'source_url': 'https://en.wikipedia.org/wiki/1929%E2%80%931930_psittacosis_pandemic', 'page_id': 60428423, 'tags': '1929–1930 psittacosis pandemic,Further reading,References', 'section_number': 18}}, {'_index': 'cpd', '_id': '159', '_score': 7.26242, '_source': {'section_title': 'Data and graphs', 'text': 'COVID-19 pandemic,External links,Data and graphs\\nCoronavirus disease (COVID-2019) situation reports and map by the World Health Organization\\nCoronavirus Resource Center, map, and historical data by Johns Hopkins University\\nHistorical data about COVID-19 cases published by the European Centre for Disease Prevention and Control (ECDC)\\nWorld Travel Restrictions based on WFP data\\nCoronavirus Observer based on Johns Hopkins University data\\nCOVID-19 coronavirus pandemic published by Worldometer\\nCoronavirus Disease (COVID-19) Statistics and Research published by Our World in Data\\nCOVID-19 Projections for many countries published by Institute for Health Metrics and Evaluation\\nSpreadsheets: Country comparisons\\nSpreadsheets: Historical data with additional computations\\nEpidemic Calculator\\nStat News COVID-19 Tracker', 'main_section': 'External links', 'article_title': 'COVID-19 pandemic', 'source_url': 'https://en.wikipedia.org/wiki/COVID-19_pandemic', 'page_id': 62750956, 'tags': 'COVID-19 pandemic,External links,Data and graphs', 'section_number': 81}}, {'_index': 'cpd', '_id': '157', '_score': 7.253867, '_source': {'section_title': 'Health agencies', 'text': 'COVID-19 pandemic,External links,Health agencies\\nCOVID-19 (Questions & Answers, instructional videos; Facts/MythBusters) by the World Health Organization\\nCOVID-19 by the Government of Canada\\nCOVID-19 by the National Health Commission, China\\nCOVID-19 (Q&A) by the European Centre for Disease Prevention and Control\\nCOVID-19 (Q&A) by the Ministry of Health, Singapore\\nCOVID-19 (Q&A) by the U.S. Centers for Disease Control\\nNIH COVID-19 Portfolio by the U.S. National Institutes of Health\\nCoronavirus Disease 2019 (Q&A) by the U.S. National Institute for Occupational Safety and Health', 'main_section': 'External links', 'article_title': 'COVID-19 pandemic', 'source_url': 'https://en.wikipedia.org/wiki/COVID-19_pandemic', 'page_id': 62750956, 'tags': 'COVID-19 pandemic,External links,Health agencies', 'section_number': 79}}, {'_index': 'cpd', '_id': '23', '_score': 6.9860735, '_source': {'section_title': 'Zika virus', 'text': 'Pandemic,Concerns about future pandemics,Concerning diseases,Zika virus\\nAn outbreak of Zika virus began in 2015 and strongly intensified throughout the start of 2016, with more than 1.5 million cases across more than a dozen countries in the Americas. The World Health Organization warned that Zika had the potential to become an explosive global pandemic if the outbreak was not controlled.', 'main_section': 'Concerns about future pandemics', 'article_title': 'Pandemic', 'source_url': 'https://en.wikipedia.org/wiki/Pandemic', 'page_id': 24255, 'tags': 'Pandemic,Concerns about future pandemics,Concerning diseases,Zika virus', 'section_number': 31}}, {'_index': 'cpd', '_id': '233', '_score': 6.6351795, '_source': {'section_title': 'History of Human diseases', 'text': 'Pandemic prevention,History of Human diseases\\nThe 2003 SARS-CoV virus was prevented from causing a pandemic. Rapid action by national and international health authorities such as the  World Health Organization helped to slow transmission and eventually broke the chain of transmission, which ended the localized epidemics before they could become a pandemic. However, the disease has not been eradicated and could re-emerge. This warrants monitoring and reporting of suspicious cases of atypical pneumonia. Effective isolation of patients was enough to control spread because infected individuals usually not transmitting the virus until several days after symptoms began and were most infectious only after developing severe symptoms.', 'main_section': 'History of Human diseases', 'article_title': 'Pandemic prevention', 'source_url': 'https://en.wikipedia.org/wiki/Pandemic_prevention', 'page_id': 63478457, 'tags': 'Pandemic prevention,History of Human diseases', 'section_number': 1}}, {'_index': 'cpd', '_id': '20', '_score': 6.5220504, '_source': {'section_title': 'Severe acute respiratory syndrome', 'text': 'Pandemic,Concerns about future pandemics,Concerning diseases,Severe acute respiratory syndrome\\nAfter the SARS outbreak, in 2003 the Italian physician Carlo Urbani (1956–2003) was the first to identify severe acute respiratory syndrome (SARS) as a new and dangerously contagious disease, although he became infected and died. It is caused by a coronavirus dubbed SARS-CoV-1. Rapid action by national and international health authorities such as the World Health Organization helped to slow transmission and eventually broke the chain of transmission, which ended the localized epidemics before they could become a pandemic. However, the disease has not been eradicated and could re-emerge. This warrants monitoring and reporting of suspicious cases of atypical pneumonia.', 'main_section': 'Concerns about future pandemics', 'article_title': 'Pandemic', 'source_url': 'https://en.wikipedia.org/wiki/Pandemic', 'page_id': 24255, 'tags': 'Pandemic,Concerns about future pandemics,Concerning diseases,Severe acute respiratory syndrome', 'section_number': 28}}, {'_index': 'cpd', '_id': '206', '_score': 5.9988565, '_source': {'section_title': 'Antiviral therapy', 'text': 'HIV/AIDS,Treatment,Prevention,Antiviral therapy\\nCurrent HAART options are combinations (or \"cocktails\") consisting of at least three medications belonging to at least two types, or \"classes\", of antiretroviral agents. Initially, treatment is typically a non-nucleoside reverse transcriptase inhibitor (NNRTI) plus two nucleoside analog reverse transcriptase inhibitors (NRTIs). Typical NRTIs include: zidovudine (AZT) or tenofovir (TDF) and lamivudine (3TC) or emtricitabine (FTC). As of 2019, dolutegravir/lamivudine/tenofovir is listed by the World Health Organization as the first-line treatment for adults, with tenofovir/lamivudine/efavirenz as an alternative. Combinations of agents that include protease inhibitors (PI) are used if the above regimen loses effectiveness.The World Health Organization and the United States recommend antiretrovirals in people of all ages (including pregnant women) as soon as the diagnosis is made, regardless of CD4 count. Once treatment is begun, it is recommended that it is continued without breaks or \"holidays\". Many people are diagnosed only after treatment ideally should have begun. The desired outcome of treatment is a long-term plasma HIV-RNA count below 50 copies/mL. Levels to determine if treatment is effective are initially recommended after four weeks and once levels fall below 50 copies/mL checks every three to six months are typically adequate. Inadequate control is deemed to be greater than 400 copies/mL. Based on these criteria treatment is effective in more than 95% of people during the first year.Benefits of treatment include a decreased risk of progression to AIDS and a decreased risk of death. In the developing world, treatment also improves physical and mental health. With treatment, there is a 70% reduced risk of acquiring tuberculosis. Additional benefits include a decreased risk of transmission of the disease to sexual partners and a decrease in mother-to-child transmission. The effectiveness of treatment depends to a large part on compliance. Reasons for non-adherence to treatment include poor access to medical care, inadequate social supports, mental illness and drug abuse. The complexity of treatment regimens (due to pill numbers and dosing frequency) and adverse effects may reduce adherence. Even though cost is an important issue with some medications, 47% of those who needed them were taking them in low- and middle-income countries as of 2010, and the rate of adherence is similar in low-income and high-income countries.Specific adverse events are related to the antiretroviral agent taken. Some relatively common adverse events include: lipodystrophy syndrome, dyslipidemia, and diabetes mellitus, especially with protease inhibitors. Other common symptoms include diarrhea, and an increased risk of cardiovascular disease. Newer recommended treatments are associated with fewer adverse effects. Certain medications may be associated with birth defects and therefore may be unsuitable for women hoping to have children.Treatment recommendations for children are somewhat different from those for adults. The World Health Organization recommends treating all children less than five years of age; children above five are treated like adults. The United States guidelines recommend treating all children less than 12 months of age and all those with HIV RNA counts greater than 100,000 copies/mL between one year and five years of age.The European Medicines Agency (EMA) has recommended the granting of marketing authorizations for two new antiretroviral (ARV) medicines, rilpivirine (Rekambys) and cabotegravir (Vocabria), to be used together for the treatment of people with human immunodeficiency virus type 1 (HIV-1) infection. The two medicines are the first ARVs that come in a long-acting injectable formulation. This means that instead of daily pills, people receive intramuscular injections monthly or every two months.The combination of Rekambys and Vocabria injection is intended for maintenance treatment of adults who have undetectable HIV levels in the blood (viral load less than 50 copies/ml) with their current ARV treatment, and when the virus has not developed resistance to certain class of anti-HIV medicines called non-nucleoside reverse transcriptase inhibitors (NNRTIs) and integrase strand transfer inhibitors (INIs).', 'main_section': 'Treatment', 'article_title': 'HIV/AIDS', 'source_url': 'https://en.wikipedia.org/wiki/HIV/AIDS', 'page_id': 5069516, 'tags': 'HIV/AIDS,Treatment,Prevention,Antiviral therapy', 'section_number': 21}}, {'_index': 'cpd', '_id': '194', '_score': 5.942991, '_source': {'section_title': 'Mother-to-child', 'text': 'HIV/AIDS,Transmission,Mother-to-child\\nHIV can be transmitted from mother to child during pregnancy, during delivery, or through breast milk, resulting in the baby also contracting HIV. As of 2008, vertical transmission accounted for about 90% of cases of HIV in children. In the absence of treatment, the risk of transmission before or during birth is around 20%, and in those who also breastfeed 35%. Treatment decreases this risk to less than 5%.Antiretrovirals when taken by either the mother or the baby decrease the risk of transmission in those who do breastfeed. If blood contaminates food during pre-chewing it may pose a risk of transmission. If a woman is untreated, two years of breastfeeding results in an HIV/AIDS risk in her baby of about 17%. Due to the increased risk of death without breastfeeding in many areas in the developing world, the World Health Organization recommends either exclusive breastfeeding or the provision of safe formula. All women known to be HIV-positive should be taking lifelong antiretroviral therapy.', 'main_section': 'Transmission', 'article_title': 'HIV/AIDS', 'source_url': 'https://en.wikipedia.org/wiki/HIV/AIDS', 'page_id': 5069516, 'tags': 'HIV/AIDS,Transmission,Mother-to-child', 'section_number': 8}}, {'_index': 'cpd', '_id': '82', '_score': 5.792868, '_source': {'section_title': 'Vaccination', 'text': 'Cholera,Prevention,Cause,Vaccination\\nA number of safe and effective oral vaccines for cholera are available.  The World Health Organization (WHO) has three prequalified oral cholera vaccines (OCVs): Dukoral, Sanchol, and Euvichol. Dukoral, an orally administered, inactivated whole cell vaccine, has an overall efficacy of about 52% during the first year after being given and 62% in the second year, with minimal side effects.  It is available in over 60 countries. However, it is not currently recommended by the Centers for Disease Control and Prevention (CDC) for most people traveling from the United States to endemic countries. The vaccine that the US Food and Drug Administration (FDA) recommends, Vaxchora, is an oral attenuated live vaccine,  that is effective as a single dose.One injectable vaccine was found to be effective for two to three years. The protective efficacy was 28% lower in children less than five years old. However, as of 2010, it has limited availability. Work is under way to investigate the role of mass vaccination. The WHO recommends immunization of high-risk groups, such as children and people with HIV, in countries where this disease is endemic.  If people are immunized broadly, herd immunity results, with a decrease in the amount of contamination in the environment.WHO recommends that oral cholera vaccination be considered in areas where the disease is endemic (with seasonal peaks), as part of the response to outbreaks, or in a humanitarian crisis during which the risk of cholera is high. Oral Cholera Vaccine (OCV) has been recognized as an adjunct tool for prevention and control of cholera. The World Health Organization (WHO) has prequalified three bivalent cholera vaccines—Dukoral (SBL Vaccines), containing a non-toxic B-subunit of cholera toxin and providing protection against V. cholerae O1; and two vaccines developed using the same transfer of technology—ShanChol (Shantha Biotec) and Euvichol (EuBiologics Co.), which have bivalent O1 and O139 oral killed cholera vaccines. Oral cholera vaccination could be deployed in a diverse range of situations from cholera-endemic areas and locations of humanitarian crises, but no clear consensus exists.', 'main_section': 'Prevention', 'article_title': 'Cholera', 'source_url': 'https://en.wikipedia.org/wiki/Cholera', 'page_id': 7591, 'tags': 'Cholera,Prevention,Cause,Vaccination', 'section_number': 11}}]}})"
      ]
     },
     "execution_count": 76,
     "metadata": {},
     "output_type": "execute_result"
    }
   ],
   "source": [
    "res2"
   ]
  },
  {
   "cell_type": "code",
   "execution_count": 93,
   "id": "10d0653c",
   "metadata": {},
   "outputs": [
    {
     "name": "stderr",
     "output_type": "stream",
     "text": [
      "/var/folders/84/skgmh_gx5bx_zpl3v_kjpwym0000gn/T/ipykernel_43750/826147375.py:12: DeprecationWarning: The 'body' parameter is deprecated and will be removed in a future version. Instead use individual parameters.\n",
      "  res3=es.search(index=\"cpd\",body=query_body3)\n"
     ]
    }
   ],
   "source": [
    "query_body3={'query':\n",
    "                 {'bool':\n",
    "                      {'must':\n",
    "                           {'match':{'text':'Spanish flu'}},\n",
    "                      'must_not':\n",
    "                           {'match':{'section_title':'External links'}},\n",
    "                      'should':\n",
    "                           {'match':{'section_title':{'query': 'Summary', 'boost': 1.5}}}\n",
    "                      }\n",
    "                 }\n",
    "            }\n",
    "res3=es.search(index=\"cpd\",body=query_body3)"
   ]
  },
  {
   "cell_type": "code",
   "execution_count": 94,
   "id": "5c932149",
   "metadata": {},
   "outputs": [
    {
     "data": {
      "text/plain": [
       "43"
      ]
     },
     "execution_count": 94,
     "metadata": {},
     "output_type": "execute_result"
    }
   ],
   "source": [
    "res3['hits']['total']['value']"
   ]
  },
  {
   "cell_type": "code",
   "execution_count": 95,
   "id": "dfb1f277",
   "metadata": {},
   "outputs": [
    {
     "data": {
      "text/plain": [
       "ObjectApiResponse({'took': 7, 'timed_out': False, '_shards': {'total': 1, 'successful': 1, 'skipped': 0, 'failed': 0}, 'hits': {'total': {'value': 43, 'relation': 'eq'}, 'max_score': 12.732269, 'hits': [{'_index': 'cpd', '_id': '302', '_score': 12.732269, '_source': {'section_title': 'Summary', 'text': 'Swine influenza,Summary\\nSwine influenza is an infection caused by any one of several types of swine influenza viruses. Swine influenza virus (SIV) or swine-origin influenza virus (S-OIV) is any strain of the influenza family of viruses that is endemic in pigs. As of 2009, the known SIV strains include influenza C and the subtypes of  influenza A known as H1N1, H1N2, H2N1, H3N1, H3N2, and H2N3.\\nSwine influenza virus is common throughout pig populations worldwide. Transmission of the virus from pigs to humans is not common and does not always lead to human flu, often resulting only in the production of antibodies in the blood. If transmission does cause human flu, it is called zoonotic swine flu. People with regular exposure to pigs are at increased risk of swine flu infection.\\nAround the mid-20th century, identification of influenza subtypes became possible, allowing accurate diagnosis of transmission to humans. Since then, only 50 such transmissions have been confirmed. These strains of swine flu rarely pass from human to human. Symptoms of zoonotic swine flu in humans are similar to those of influenza and of influenza-like illness in general, namely chills, fever, sore throat, muscle pains, severe headache, coughing, weakness, shortness of breath, and general discomfort.\\nIt is estimated that in the 2009 flu pandemic 11–21% of the then global population (of about 6.8 billion), or around 700 million to 1.4 billion people, contracted the illness—more in absolute terms than the Spanish flu pandemic. There were 18,449 confirmed fatalities. However, in a 2012 study, the CDC estimated more than 284,000 possible fatalities worldwide, with range from 150,000 to 575,000.\\nIn August 2010, the World Health Organization declared the swine flu pandemic officially over.Subsequent cases of swine flu were reported in India in 2015, with over 31,156 positive test cases and 1,841 deaths up to March 2015.', 'main_section': 'Summary', 'article_title': 'Swine influenza', 'source_url': 'https://en.wikipedia.org/wiki/Swine_influenza', 'page_id': 1516915, 'tags': 'Swine influenza,Summary', 'section_number': 0}}, {'_index': 'cpd', '_id': '0', '_score': 11.891769, '_source': {'section_title': 'Summary', 'text': 'Pandemic,Summary\\nA pandemic (from Greek πᾶν, pan, \"all\" and δῆμος, demos, \"people\") is an epidemic of an infectious disease that has spread across a large region, for instance multiple continents or worldwide, affecting a substantial number of people. A widespread endemic disease with a stable number of infected people is not a pandemic. Widespread endemic diseases with a stable number of infected people such as recurrences of seasonal influenza are generally excluded as they occur simultaneously in large regions of the globe rather than being spread worldwide.\\nThroughout human history, there have been a number of pandemics of diseases such as smallpox and tuberculosis. The most fatal pandemic in recorded history was the Black Death (also known as The Plague), which killed an estimated 75–200 million people in the 14th century. The term was not used yet but was for later pandemics including the 1918 influenza pandemic (Spanish flu). Current pandemics include COVID-19 (SARS-CoV-2) and HIV/AIDS.', 'main_section': 'Summary', 'article_title': 'Pandemic', 'source_url': 'https://en.wikipedia.org/wiki/Pandemic', 'page_id': 24255, 'tags': 'Pandemic,Summary', 'section_number': 0}}, {'_index': 'cpd', '_id': '9', '_score': 9.171614, '_source': {'section_title': 'Influenza', 'text': 'Pandemic,Notable outbreaks,Major outbreaks in countries,Influenza\\nThe Greek physician Hippocrates, the \"Father of Medicine\", first described influenza in 412 BC.\\nThe first influenza pandemic to be pathologically described occurred in 1510. Since the pandemic of 1580, influenza pandemics have occurred every 10 to 30 years.\\nThe 1889–1890 flu pandemic, also known as Russian Flu or Asiatic Flu, was first reported in May 1889 in Bukhara, Uzbekistan. By October, it had reached Tomsk and the Caucasus. It rapidly spread west and hit North America in December 1889, South America in February–April 1890, India in February–March 1890, and Australia in March–April 1890. The H3N8 and H2N2 subtypes of the Influenza A virus have each been identified as possible causes. It had a very high attack and mortality rate, causing around a million fatalities.\\nThe \"Spanish flu\", 1918–1919. First identified early in March 1918 in U.S. troops training at Camp Funston, Kansas. By October 1918, it had spread to become a worldwide pandemic on all continents, and eventually infected about one-third of the world\\'s population (or ≈500 million persons). Unusually deadly and virulent, it ended almost as quickly as it began, vanishing completely within 18 months. Within six months, some 50 million people were dead; some estimates put the total number of fatalities worldwide at over twice that number. About 17 million died in India, 675,000 in the United States, and 200,000 in the United Kingdom. The virus that caused Spanish flu was also implicated as a cause of encephalitis lethargica in children. The virus was recently reconstructed by scientists at the CDC studying remains preserved by the Alaskan permafrost. The H1N1 virus has a small but crucial structure that is similar to the Spanish flu.\\nThe \"Asian Flu\", 1957–58. A H2N2 virus first identified in China in late February 1957. It caused about two million deaths globally.\\nThe \"Hong Kong Flu\", 1968–69. A H3N2 virus first detected in Hong Kong in early 1968 and spread across the world, lasting until 1972. This pandemic killed approximately one million people worldwide.\\nThe \"Swine Flu\", 2009–10. An H1N1 virus first detected in Mexico in early 2009. Estimates for the mortality of this pandemic range from 150 to 500 thousand.', 'main_section': 'Notable outbreaks', 'article_title': 'Pandemic', 'source_url': 'https://en.wikipedia.org/wiki/Pandemic', 'page_id': 24255, 'tags': 'Pandemic,Notable outbreaks,Major outbreaks in countries,Influenza', 'section_number': 12}}, {'_index': 'cpd', '_id': '174', '_score': 8.41239, '_source': {'section_title': 'In popular culture', 'text': 'Disease X,In popular culture,Candidates\\nIn 2018, the Museum of London ran an exhibition titled \"Disease X: London\\'s next epidemic?\", hosted for the centenary of the Spanish flu epidemic from 1918.The term features in the title of several fiction books that involve global pandemic diseases, such as Disease  (2020), and Disease X: The Outbreak (2019).', 'main_section': 'In popular culture', 'article_title': 'Disease X', 'source_url': 'https://en.wikipedia.org/wiki/Disease_X', 'page_id': 56809815, 'tags': 'Disease X,In popular culture,Candidates', 'section_number': 9}}, {'_index': 'cpd', '_id': '339', '_score': 7.3797274, '_source': {'section_title': 'Summary', 'text': \"Unified Victim Identification System,Summary\\nThe Unified Victim Identification System (UVIS) is an Internet-enabled database system developed for the Office of Chief Medical Examiner of the City of New York (OCME) in the aftermath of the September 11 attacks on New York City and the crash of American Airlines Flight 587.  It is intended to handle critical fatality management functions made necessary by a major disaster. UVIS is a strong flexible role-based application and permissions can be controlled dynamically.In the event of a mass casualty event, it will initially be used by New York City's 311 call center operators, the New York Police Department, and OCME to gather key information to facilitate compiling an accurate list of missing persons.  UVIS will also be used by the OCME to track decedents and collect postmortem findings to facilitate the identification process after a disaster.  UVIS also contains a Pandemic Flu module to prepare against such an eventuality.  UVIS is a strong flexible role-based application and permissions can be controlled dynamically.\\nUVIS was built for the OCME by Nihilent, a consulting & solution integration company, and is a leading design thinking company, (formerly known as ICRA Sapphire).Developed with public funds, UVIS is available to municipalities, counties, states, and other governmental agencies without charge, under license from New York City. Currently UVIS is in use at the Office of Chief Medical Examiner of the City of New York (OCME) and the State of New Jersey (OCSME).\", 'main_section': 'Summary', 'article_title': 'Unified Victim Identification System', 'source_url': 'https://en.wikipedia.org/wiki/Unified_Victim_Identification_System', 'page_id': 23142825, 'tags': 'Unified Victim Identification System,Summary', 'section_number': 0}}, {'_index': 'cpd', '_id': '22', '_score': 7.022901, '_source': {'section_title': 'H5N1 (Avian flu)', 'text': 'Pandemic,Concerns about future pandemics,Concerning diseases,H5N1 (Avian flu)\\nIn February 2004, avian influenza virus was detected in birds in Vietnam, increasing fears of the emergence of new variant strains. It is feared that if the avian influenza virus combines with a human influenza virus (in a bird or a human), the new subtype created could be both highly contagious and highly lethal in humans. Such a subtype could cause a global influenza pandemic, similar to the Spanish flu or the lower mortality pandemics such as the Asian Flu and the Hong Kong Flu.\\nFrom October 2004 to February 2005, some 3,700 test kits of the 1957 Asian Flu virus were accidentally spread around the world from a lab in the U.S.In May 2005, scientists urgently called upon nations to prepare for a global influenza pandemic that could strike as much as 20% of the world\\'s population.In October 2005, cases of the avian flu (the deadly strain H5N1) were identified in Turkey. EU Health Commissioner Markos Kyprianou said: \"We have received now confirmation that the virus found in Turkey is an avian flu H5N1 virus. There is a direct relationship with viruses found in Russia, Mongolia and China.\" Cases of bird flu were also identified shortly thereafter in Romania, and then Greece. Possible cases of the virus have also been found in Croatia, Bulgaria and the United Kingdom.By November 2007, numerous confirmed cases of the H5N1 strain had been identified across Europe. However, by the end of October, only 59 people had died as a result of H5N1, which was atypical of previous influenza pandemics.\\nAvian flu cannot be categorized as a \"pandemic\" because the virus cannot yet cause sustained and efficient human-to-human transmission. Cases so far are recognized to have been transmitted from bird to human, but as of December 2006 there had been few (if any) cases of proven human-to-human transmission. Regular influenza viruses establish infection by attaching to receptors in the throat and lungs, but the avian influenza virus can attach only to receptors located deep in the lungs of humans, requiring close, prolonged contact with infected patients, and thus limiting person-to-person transmission.', 'main_section': 'Concerns about future pandemics', 'article_title': 'Pandemic', 'source_url': 'https://en.wikipedia.org/wiki/Pandemic', 'page_id': 24255, 'tags': 'Pandemic,Concerns about future pandemics,Concerning diseases,H5N1 (Avian flu)', 'section_number': 30}}, {'_index': 'cpd', '_id': '253', '_score': 6.203658, '_source': {'section_title': 'Guidelines', 'text': 'Pandemic severity index,Guidelines\\nThe index focuses less on how likely a disease will spread worldwide – that is, become a pandemic – and more upon how severe the epidemic actually is.\\nThe main criterion used to measure pandemic severity will be case-fatality rate (CFR), the percentage of deaths out of the total reported cases of the disease.The actual implementation of PSI alerts was expected to occur after the World Health Organization (WHO) announces phase 6 influenza transmission (human to human) in the United States. This would probably result in immediate announcement of a PSI level 3–4 situation.The analogy of \"category\" levels were introduced to provide an understandable connection to hurricane classification schemes, with specific reference to the recent aftermath of Hurricane Katrina.\\nLike the Saffir–Simpson Hurricane Scale, the PSI ranges from 1 to 5, with Category 1 pandemics being most mild (equivalent to seasonal flu) and level 5 being reserved for the most severe \"worst-case\" scenario pandemics (such as the 1918 Spanish flu).\\n\\nThe report recommends four primary social distancing measures for slowing down a pandemic:\\n\\nIsolation and treatment of people who have suspected or confirmed cases of pandemic influenza\\nVoluntary home quarantine of household contacts of those with suspected or confirmed pandemic influenza\\nDismissing school classes and closing daycare centers\\nChanging work schedules and canceling large public gatheringsThese actions, when implemented, can have an overall effect of reducing the number of new cases of the disease; but they can carry potentially adverse consequences in terms of community and social disruption. The measures should have the most noticeable impact if implemented uniformly by organizations and governments across the US.', 'main_section': 'Guidelines', 'article_title': 'Pandemic severity index', 'source_url': 'https://en.wikipedia.org/wiki/Pandemic_severity_index', 'page_id': 9291245, 'tags': 'Pandemic severity index,Guidelines', 'section_number': 3}}, {'_index': 'cpd', '_id': '278', '_score': 5.680986, '_source': {'section_title': 'Later', 'text': '1929–1930 psittacosis pandemic,North America,Africa,Later\\n43 of the 74 foci in the U.S. were traced to contact with Amazon parrots. Links were traced to Japan, Caribbean, Germany, Central America and South America. Between November 1929 and May 1930, the U.S. recorded 169 cases, of which 33 died. New York was the centre of the East Coast bird trade. However, the principal ports of entry for Australian budgerigars was San Francisco and Los Angeles. Later, it was discovered that the main source was domestic lovebirds raised in hundreds of independent Californian aviaries by breeders who were supplementing their incomes following the recent Wall Street Crash. The winter of 1929 was also witnessing an influenza epidemic and there were fears of a recurrence of Spanish flu,which added to the depressive effects. In this context, peddlers travelled door-to-door with “lovebirds” for housewives and widows. As a result, most victims in the U.S. were women. The realisation and connections of the various outbreaks may not have become apparent had it not been for the press. Likewise, the \"hysteria\" and heightened public concern surrounding the pandemic may not have occurred had it not been for headlines such as “Killed By A Pet Parrot.”The establishment of the National Institutes of Health is directly linked to the outbreak that occurred in Maryland. Its story was retold in Paul de Kruif\\'s, Men Against Death (1933).', 'main_section': 'North America', 'article_title': '1929–1930 psittacosis pandemic', 'source_url': 'https://en.wikipedia.org/wiki/1929%E2%80%931930_psittacosis_pandemic', 'page_id': 60428423, 'tags': '1929–1930 psittacosis pandemic,North America,Africa,Later', 'section_number': 12}}, {'_index': 'cpd', '_id': '10', '_score': 4.6167145, '_source': {'section_title': 'Typhus', 'text': 'Pandemic,Notable outbreaks,Major outbreaks in countries,Typhus\\nTyphus is sometimes called \"camp fever\" because of its pattern of flaring up in times of strife. (It is also known as \"gaol fever\" and \"ship fever\", for its habits of spreading wildly in cramped quarters, such as jails and ships.) Emerging during the Crusades, it had its first impact in Europe in 1489, in Spain. During fighting between the Christian Spaniards and the Muslims in Granada, the Spanish lost 3,000 to war casualties, and 20,000 to typhus. In 1528, the French lost 18,000 troops in Italy, and lost supremacy in Italy to the Spanish. In 1542, 30,000 soldiers died of typhus while fighting the Ottomans in the Balkans.\\nDuring the Thirty Years\\' War (1618–1648), about eight million Germans were killed by bubonic plague and typhus. The disease also played a major role in the destruction of Napoleon\\'s Grande Armée in Russia in 1812. During the retreat from Moscow, more French military personnel died of typhus than were killed by the Russians. Of the 450,000 soldiers who crossed the Neman on 25 June 1812, fewer than 40,000 returned. More military personnel were killed from 1500 to 1914 by typhus than from military action. In early 1813, Napoleon raised a new army of 500,000 to replace his Russian losses. In the campaign of that year, more than 219,000 of Napoleon\\'s soldiers died of typhus. Typhus played a major factor in the Great Famine of Ireland. During World War I, typhus epidemics killed more than 150,000 in Serbia. There were about 25 million infections and 3 million deaths from epidemic typhus in Russia from 1918 to 1922. Typhus also killed numerous prisoners in the Nazi concentration camps and Soviet prisoner of war camps during World War II. More than 3.5 million Soviet POWs died out of the 5.7 million in Nazi custody.', 'main_section': 'Notable outbreaks', 'article_title': 'Pandemic', 'source_url': 'https://en.wikipedia.org/wiki/Pandemic', 'page_id': 24255, 'tags': 'Pandemic,Notable outbreaks,Major outbreaks in countries,Typhus', 'section_number': 13}}, {'_index': 'cpd', '_id': '304', '_score': 4.179197, '_source': {'section_title': 'Humans', 'text': 'Swine influenza,Signs and symptoms,Humans\\nDirect transmission of a swine flu virus from pigs to humans is occasionally possible (zoonotic swine flu). In all, 50 cases are known to have occurred since the first report in medical literature in 1958, which have resulted in a total of six deaths. Of these six people, one was pregnant, one had leukemia, one had Hodgkin\\'s lymphoma and two were known to be previously healthy. One of these had unknown whereabouts. Despite these apparently low numbers of infections, the true rate of infection may be higher, since most cases only cause a very mild disease, and will probably never be reported or diagnosed.\\n\\nAccording to the United States Centers for Disease Control and Prevention (CDC), in humans the symptoms of the 2009 \"swine flu\" H1N1 virus are similar to influenza and influenza-like illness in general. Symptoms include fever, cough, sore throat, watery eyes, body aches, shortness of breath, headache, weight loss, chills, sneezing, runny nose, coughing, dizziness, abdominal pain, lack of appetite, and fatigue. The 2009 outbreak showed an increased percentage of patients reporting diarrhea and vomiting as well. The 2009 H1N1 virus is not zoonotic swine flu, as it is not transmitted from pigs to humans, but from person to person through airborne droplets.Because these symptoms are not specific to swine flu, a differential diagnosis of probable swine flu requires not only symptoms, but also a high likelihood of swine flu due to the person\\'s recent and past medical history. For example, during the 2009 swine flu outbreak in the United States, the CDC advised physicians to \"consider swine influenza infection in the differential diagnosis of patients with acute febrile respiratory illness who have either been in contact with persons with confirmed swine flu, or who were in one of the five U.S. states that have reported swine flu cases or in Mexico during the seven days preceding their illness onset.\" A diagnosis of confirmed swine flu requires laboratory testing of a respiratory sample (a simple nose and throat swab).The most common cause of death is respiratory failure. Other causes of death are pneumonia (leading to sepsis), high fever (leading to neurological problems), dehydration (from excessive vomiting and diarrhea), electrolyte imbalance and kidney failure. Fatalities are more likely in young children and the elderly.', 'main_section': 'Signs and symptoms', 'article_title': 'Swine influenza', 'source_url': 'https://en.wikipedia.org/wiki/Swine_influenza', 'page_id': 1516915, 'tags': 'Swine influenza,Signs and symptoms,Humans', 'section_number': 2}}]}})"
      ]
     },
     "execution_count": 95,
     "metadata": {},
     "output_type": "execute_result"
    }
   ],
   "source": [
    "res3"
   ]
  },
  {
   "cell_type": "code",
   "execution_count": 105,
   "id": "167c09d0",
   "metadata": {},
   "outputs": [
    {
     "name": "stderr",
     "output_type": "stream",
     "text": [
      "/var/folders/84/skgmh_gx5bx_zpl3v_kjpwym0000gn/T/ipykernel_43750/2112105697.py:16: DeprecationWarning: The 'body' parameter is deprecated and will be removed in a future version. Instead use individual parameters.\n",
      "  res4=es.search(index=\"cpd\",body=query_body4)\n"
     ]
    }
   ],
   "source": [
    "query_body4={'query':\n",
    "                 {'bool':\n",
    "                      {'must':\n",
    "                           {'match':{'text':'Spanish flu'}},\n",
    "                      'must_not':\n",
    "                           {'match':{'section_title':'External links'}},\n",
    "                      'should':\n",
    "                           {'match':{'section_title':{'query': 'Summary', 'boost': 1.5}}}\n",
    "                      }\n",
    "                 },\n",
    "             '_source':['text','section_title'],\n",
    "             'highlight':\n",
    "                 {'fields':\n",
    "                     {'text':{},'section_title':{}}}\n",
    "            }\n",
    "res4=es.search(index=\"cpd\",body=query_body4)"
   ]
  },
  {
   "cell_type": "code",
   "execution_count": 106,
   "id": "7e0d4039",
   "metadata": {},
   "outputs": [
    {
     "data": {
      "text/plain": [
       "43"
      ]
     },
     "execution_count": 106,
     "metadata": {},
     "output_type": "execute_result"
    }
   ],
   "source": [
    "res4['hits']['total']['value']"
   ]
  },
  {
   "cell_type": "code",
   "execution_count": 107,
   "id": "03d7680a",
   "metadata": {},
   "outputs": [
    {
     "data": {
      "text/plain": [
       "ObjectApiResponse({'took': 26, 'timed_out': False, '_shards': {'total': 1, 'successful': 1, 'skipped': 0, 'failed': 0}, 'hits': {'total': {'value': 43, 'relation': 'eq'}, 'max_score': 12.732269, 'hits': [{'_index': 'cpd', '_id': '302', '_score': 12.732269, '_source': {'section_title': 'Summary', 'text': 'Swine influenza,Summary\\nSwine influenza is an infection caused by any one of several types of swine influenza viruses. Swine influenza virus (SIV) or swine-origin influenza virus (S-OIV) is any strain of the influenza family of viruses that is endemic in pigs. As of 2009, the known SIV strains include influenza C and the subtypes of  influenza A known as H1N1, H1N2, H2N1, H3N1, H3N2, and H2N3.\\nSwine influenza virus is common throughout pig populations worldwide. Transmission of the virus from pigs to humans is not common and does not always lead to human flu, often resulting only in the production of antibodies in the blood. If transmission does cause human flu, it is called zoonotic swine flu. People with regular exposure to pigs are at increased risk of swine flu infection.\\nAround the mid-20th century, identification of influenza subtypes became possible, allowing accurate diagnosis of transmission to humans. Since then, only 50 such transmissions have been confirmed. These strains of swine flu rarely pass from human to human. Symptoms of zoonotic swine flu in humans are similar to those of influenza and of influenza-like illness in general, namely chills, fever, sore throat, muscle pains, severe headache, coughing, weakness, shortness of breath, and general discomfort.\\nIt is estimated that in the 2009 flu pandemic 11–21% of the then global population (of about 6.8 billion), or around 700 million to 1.4 billion people, contracted the illness—more in absolute terms than the Spanish flu pandemic. There were 18,449 confirmed fatalities. However, in a 2012 study, the CDC estimated more than 284,000 possible fatalities worldwide, with range from 150,000 to 575,000.\\nIn August 2010, the World Health Organization declared the swine flu pandemic officially over.Subsequent cases of swine flu were reported in India in 2015, with over 31,156 positive test cases and 1,841 deaths up to March 2015.'}, 'highlight': {'section_title': ['<em>Summary</em>'], 'text': ['If transmission does cause human <em>flu</em>, it is called zoonotic swine <em>flu</em>.', 'People with regular exposure to pigs are at increased risk of swine <em>flu</em> infection.', 'These strains of swine <em>flu</em> rarely pass from human to human.', 'or around 700 million to 1.4 billion people, contracted the illness—more in absolute terms than the <em>Spanish</em>', '<em>flu</em> pandemic.']}}, {'_index': 'cpd', '_id': '0', '_score': 11.891769, '_source': {'section_title': 'Summary', 'text': 'Pandemic,Summary\\nA pandemic (from Greek πᾶν, pan, \"all\" and δῆμος, demos, \"people\") is an epidemic of an infectious disease that has spread across a large region, for instance multiple continents or worldwide, affecting a substantial number of people. A widespread endemic disease with a stable number of infected people is not a pandemic. Widespread endemic diseases with a stable number of infected people such as recurrences of seasonal influenza are generally excluded as they occur simultaneously in large regions of the globe rather than being spread worldwide.\\nThroughout human history, there have been a number of pandemics of diseases such as smallpox and tuberculosis. The most fatal pandemic in recorded history was the Black Death (also known as The Plague), which killed an estimated 75–200 million people in the 14th century. The term was not used yet but was for later pandemics including the 1918 influenza pandemic (Spanish flu). Current pandemics include COVID-19 (SARS-CoV-2) and HIV/AIDS.'}, 'highlight': {'section_title': ['<em>Summary</em>'], 'text': ['The term was not used yet but was for later pandemics including the 1918 influenza pandemic (<em>Spanish</em>', '<em>flu</em>).']}}, {'_index': 'cpd', '_id': '9', '_score': 9.171614, '_source': {'section_title': 'Influenza', 'text': 'Pandemic,Notable outbreaks,Major outbreaks in countries,Influenza\\nThe Greek physician Hippocrates, the \"Father of Medicine\", first described influenza in 412 BC.\\nThe first influenza pandemic to be pathologically described occurred in 1510. Since the pandemic of 1580, influenza pandemics have occurred every 10 to 30 years.\\nThe 1889–1890 flu pandemic, also known as Russian Flu or Asiatic Flu, was first reported in May 1889 in Bukhara, Uzbekistan. By October, it had reached Tomsk and the Caucasus. It rapidly spread west and hit North America in December 1889, South America in February–April 1890, India in February–March 1890, and Australia in March–April 1890. The H3N8 and H2N2 subtypes of the Influenza A virus have each been identified as possible causes. It had a very high attack and mortality rate, causing around a million fatalities.\\nThe \"Spanish flu\", 1918–1919. First identified early in March 1918 in U.S. troops training at Camp Funston, Kansas. By October 1918, it had spread to become a worldwide pandemic on all continents, and eventually infected about one-third of the world\\'s population (or ≈500 million persons). Unusually deadly and virulent, it ended almost as quickly as it began, vanishing completely within 18 months. Within six months, some 50 million people were dead; some estimates put the total number of fatalities worldwide at over twice that number. About 17 million died in India, 675,000 in the United States, and 200,000 in the United Kingdom. The virus that caused Spanish flu was also implicated as a cause of encephalitis lethargica in children. The virus was recently reconstructed by scientists at the CDC studying remains preserved by the Alaskan permafrost. The H1N1 virus has a small but crucial structure that is similar to the Spanish flu.\\nThe \"Asian Flu\", 1957–58. A H2N2 virus first identified in China in late February 1957. It caused about two million deaths globally.\\nThe \"Hong Kong Flu\", 1968–69. A H3N2 virus first detected in Hong Kong in early 1968 and spread across the world, lasting until 1972. This pandemic killed approximately one million people worldwide.\\nThe \"Swine Flu\", 2009–10. An H1N1 virus first detected in Mexico in early 2009. Estimates for the mortality of this pandemic range from 150 to 500 thousand.'}, 'highlight': {'text': ['The 1889–1890 <em>flu</em> pandemic, also known as Russian <em>Flu</em> or Asiatic <em>Flu</em>, was first reported in May 1889', 'The \"<em>Spanish</em> <em>flu</em>\", 1918–1919.', 'The virus that caused <em>Spanish</em> <em>flu</em> was also implicated as a cause of encephalitis lethargica in children', 'The H1N1 virus has a small but crucial structure that is similar to the <em>Spanish</em> <em>flu</em>.', 'The \"Hong Kong <em>Flu</em>\", 1968–69.']}}, {'_index': 'cpd', '_id': '174', '_score': 8.41239, '_source': {'section_title': 'In popular culture', 'text': 'Disease X,In popular culture,Candidates\\nIn 2018, the Museum of London ran an exhibition titled \"Disease X: London\\'s next epidemic?\", hosted for the centenary of the Spanish flu epidemic from 1918.The term features in the title of several fiction books that involve global pandemic diseases, such as Disease  (2020), and Disease X: The Outbreak (2019).'}, 'highlight': {'text': [', hosted for the centenary of the <em>Spanish</em> <em>flu</em> epidemic from 1918.The term features in the title of several']}}, {'_index': 'cpd', '_id': '339', '_score': 7.3797274, '_source': {'section_title': 'Summary', 'text': \"Unified Victim Identification System,Summary\\nThe Unified Victim Identification System (UVIS) is an Internet-enabled database system developed for the Office of Chief Medical Examiner of the City of New York (OCME) in the aftermath of the September 11 attacks on New York City and the crash of American Airlines Flight 587.  It is intended to handle critical fatality management functions made necessary by a major disaster. UVIS is a strong flexible role-based application and permissions can be controlled dynamically.In the event of a mass casualty event, it will initially be used by New York City's 311 call center operators, the New York Police Department, and OCME to gather key information to facilitate compiling an accurate list of missing persons.  UVIS will also be used by the OCME to track decedents and collect postmortem findings to facilitate the identification process after a disaster.  UVIS also contains a Pandemic Flu module to prepare against such an eventuality.  UVIS is a strong flexible role-based application and permissions can be controlled dynamically.\\nUVIS was built for the OCME by Nihilent, a consulting & solution integration company, and is a leading design thinking company, (formerly known as ICRA Sapphire).Developed with public funds, UVIS is available to municipalities, counties, states, and other governmental agencies without charge, under license from New York City. Currently UVIS is in use at the Office of Chief Medical Examiner of the City of New York (OCME) and the State of New Jersey (OCSME).\"}, 'highlight': {'section_title': ['<em>Summary</em>'], 'text': ['UVIS also contains a Pandemic <em>Flu</em> module to prepare against such an eventuality.']}}, {'_index': 'cpd', '_id': '22', '_score': 7.022901, '_source': {'section_title': 'H5N1 (Avian flu)', 'text': 'Pandemic,Concerns about future pandemics,Concerning diseases,H5N1 (Avian flu)\\nIn February 2004, avian influenza virus was detected in birds in Vietnam, increasing fears of the emergence of new variant strains. It is feared that if the avian influenza virus combines with a human influenza virus (in a bird or a human), the new subtype created could be both highly contagious and highly lethal in humans. Such a subtype could cause a global influenza pandemic, similar to the Spanish flu or the lower mortality pandemics such as the Asian Flu and the Hong Kong Flu.\\nFrom October 2004 to February 2005, some 3,700 test kits of the 1957 Asian Flu virus were accidentally spread around the world from a lab in the U.S.In May 2005, scientists urgently called upon nations to prepare for a global influenza pandemic that could strike as much as 20% of the world\\'s population.In October 2005, cases of the avian flu (the deadly strain H5N1) were identified in Turkey. EU Health Commissioner Markos Kyprianou said: \"We have received now confirmation that the virus found in Turkey is an avian flu H5N1 virus. There is a direct relationship with viruses found in Russia, Mongolia and China.\" Cases of bird flu were also identified shortly thereafter in Romania, and then Greece. Possible cases of the virus have also been found in Croatia, Bulgaria and the United Kingdom.By November 2007, numerous confirmed cases of the H5N1 strain had been identified across Europe. However, by the end of October, only 59 people had died as a result of H5N1, which was atypical of previous influenza pandemics.\\nAvian flu cannot be categorized as a \"pandemic\" because the virus cannot yet cause sustained and efficient human-to-human transmission. Cases so far are recognized to have been transmitted from bird to human, but as of December 2006 there had been few (if any) cases of proven human-to-human transmission. Regular influenza viruses establish infection by attaching to receptors in the throat and lungs, but the avian influenza virus can attach only to receptors located deep in the lungs of humans, requiring close, prolonged contact with infected patients, and thus limiting person-to-person transmission.'}, 'highlight': {'text': ['Pandemic,Concerns about future pandemics,Concerning diseases,H5N1 (Avian <em>flu</em>)\\nIn February 2004, avian', 'Such a subtype could cause a global influenza pandemic, similar to the <em>Spanish</em> <em>flu</em> or the lower mortality', 'pandemics such as the Asian <em>Flu</em> and the Hong Kong <em>Flu</em>.', 'From October 2004 to February 2005, some 3,700 test kits of the 1957 Asian <em>Flu</em> virus were accidentally', 'Cases of bird <em>flu</em> were also identified shortly thereafter in Romania, and then Greece.']}}, {'_index': 'cpd', '_id': '253', '_score': 6.203658, '_source': {'section_title': 'Guidelines', 'text': 'Pandemic severity index,Guidelines\\nThe index focuses less on how likely a disease will spread worldwide – that is, become a pandemic – and more upon how severe the epidemic actually is.\\nThe main criterion used to measure pandemic severity will be case-fatality rate (CFR), the percentage of deaths out of the total reported cases of the disease.The actual implementation of PSI alerts was expected to occur after the World Health Organization (WHO) announces phase 6 influenza transmission (human to human) in the United States. This would probably result in immediate announcement of a PSI level 3–4 situation.The analogy of \"category\" levels were introduced to provide an understandable connection to hurricane classification schemes, with specific reference to the recent aftermath of Hurricane Katrina.\\nLike the Saffir–Simpson Hurricane Scale, the PSI ranges from 1 to 5, with Category 1 pandemics being most mild (equivalent to seasonal flu) and level 5 being reserved for the most severe \"worst-case\" scenario pandemics (such as the 1918 Spanish flu).\\n\\nThe report recommends four primary social distancing measures for slowing down a pandemic:\\n\\nIsolation and treatment of people who have suspected or confirmed cases of pandemic influenza\\nVoluntary home quarantine of household contacts of those with suspected or confirmed pandemic influenza\\nDismissing school classes and closing daycare centers\\nChanging work schedules and canceling large public gatheringsThese actions, when implemented, can have an overall effect of reducing the number of new cases of the disease; but they can carry potentially adverse consequences in terms of community and social disruption. The measures should have the most noticeable impact if implemented uniformly by organizations and governments across the US.'}, 'highlight': {'text': ['Scale, the PSI ranges from 1 to 5, with Category 1 pandemics being most mild (equivalent to seasonal <em>flu</em>', ') and level 5 being reserved for the most severe \"worst-case\" scenario pandemics (such as the 1918 <em>Spanish</em>', '<em>flu</em>).']}}, {'_index': 'cpd', '_id': '278', '_score': 5.680986, '_source': {'section_title': 'Later', 'text': '1929–1930 psittacosis pandemic,North America,Africa,Later\\n43 of the 74 foci in the U.S. were traced to contact with Amazon parrots. Links were traced to Japan, Caribbean, Germany, Central America and South America. Between November 1929 and May 1930, the U.S. recorded 169 cases, of which 33 died. New York was the centre of the East Coast bird trade. However, the principal ports of entry for Australian budgerigars was San Francisco and Los Angeles. Later, it was discovered that the main source was domestic lovebirds raised in hundreds of independent Californian aviaries by breeders who were supplementing their incomes following the recent Wall Street Crash. The winter of 1929 was also witnessing an influenza epidemic and there were fears of a recurrence of Spanish flu,which added to the depressive effects. In this context, peddlers travelled door-to-door with “lovebirds” for housewives and widows. As a result, most victims in the U.S. were women. The realisation and connections of the various outbreaks may not have become apparent had it not been for the press. Likewise, the \"hysteria\" and heightened public concern surrounding the pandemic may not have occurred had it not been for headlines such as “Killed By A Pet Parrot.”The establishment of the National Institutes of Health is directly linked to the outbreak that occurred in Maryland. Its story was retold in Paul de Kruif\\'s, Men Against Death (1933).'}, 'highlight': {'text': ['The winter of 1929 was also witnessing an influenza epidemic and there were fears of a recurrence of <em>Spanish</em>', '<em>flu</em>,which added to the depressive effects.']}}, {'_index': 'cpd', '_id': '10', '_score': 4.6167145, '_source': {'section_title': 'Typhus', 'text': 'Pandemic,Notable outbreaks,Major outbreaks in countries,Typhus\\nTyphus is sometimes called \"camp fever\" because of its pattern of flaring up in times of strife. (It is also known as \"gaol fever\" and \"ship fever\", for its habits of spreading wildly in cramped quarters, such as jails and ships.) Emerging during the Crusades, it had its first impact in Europe in 1489, in Spain. During fighting between the Christian Spaniards and the Muslims in Granada, the Spanish lost 3,000 to war casualties, and 20,000 to typhus. In 1528, the French lost 18,000 troops in Italy, and lost supremacy in Italy to the Spanish. In 1542, 30,000 soldiers died of typhus while fighting the Ottomans in the Balkans.\\nDuring the Thirty Years\\' War (1618–1648), about eight million Germans were killed by bubonic plague and typhus. The disease also played a major role in the destruction of Napoleon\\'s Grande Armée in Russia in 1812. During the retreat from Moscow, more French military personnel died of typhus than were killed by the Russians. Of the 450,000 soldiers who crossed the Neman on 25 June 1812, fewer than 40,000 returned. More military personnel were killed from 1500 to 1914 by typhus than from military action. In early 1813, Napoleon raised a new army of 500,000 to replace his Russian losses. In the campaign of that year, more than 219,000 of Napoleon\\'s soldiers died of typhus. Typhus played a major factor in the Great Famine of Ireland. During World War I, typhus epidemics killed more than 150,000 in Serbia. There were about 25 million infections and 3 million deaths from epidemic typhus in Russia from 1918 to 1922. Typhus also killed numerous prisoners in the Nazi concentration camps and Soviet prisoner of war camps during World War II. More than 3.5 million Soviet POWs died out of the 5.7 million in Nazi custody.'}, 'highlight': {'text': ['During fighting between the Christian Spaniards and the Muslims in Granada, the <em>Spanish</em> lost 3,000 to', 'In 1528, the French lost 18,000 troops in Italy, and lost supremacy in Italy to the <em>Spanish</em>.']}}, {'_index': 'cpd', '_id': '304', '_score': 4.179197, '_source': {'section_title': 'Humans', 'text': 'Swine influenza,Signs and symptoms,Humans\\nDirect transmission of a swine flu virus from pigs to humans is occasionally possible (zoonotic swine flu). In all, 50 cases are known to have occurred since the first report in medical literature in 1958, which have resulted in a total of six deaths. Of these six people, one was pregnant, one had leukemia, one had Hodgkin\\'s lymphoma and two were known to be previously healthy. One of these had unknown whereabouts. Despite these apparently low numbers of infections, the true rate of infection may be higher, since most cases only cause a very mild disease, and will probably never be reported or diagnosed.\\n\\nAccording to the United States Centers for Disease Control and Prevention (CDC), in humans the symptoms of the 2009 \"swine flu\" H1N1 virus are similar to influenza and influenza-like illness in general. Symptoms include fever, cough, sore throat, watery eyes, body aches, shortness of breath, headache, weight loss, chills, sneezing, runny nose, coughing, dizziness, abdominal pain, lack of appetite, and fatigue. The 2009 outbreak showed an increased percentage of patients reporting diarrhea and vomiting as well. The 2009 H1N1 virus is not zoonotic swine flu, as it is not transmitted from pigs to humans, but from person to person through airborne droplets.Because these symptoms are not specific to swine flu, a differential diagnosis of probable swine flu requires not only symptoms, but also a high likelihood of swine flu due to the person\\'s recent and past medical history. For example, during the 2009 swine flu outbreak in the United States, the CDC advised physicians to \"consider swine influenza infection in the differential diagnosis of patients with acute febrile respiratory illness who have either been in contact with persons with confirmed swine flu, or who were in one of the five U.S. states that have reported swine flu cases or in Mexico during the seven days preceding their illness onset.\" A diagnosis of confirmed swine flu requires laboratory testing of a respiratory sample (a simple nose and throat swab).The most common cause of death is respiratory failure. Other causes of death are pneumonia (leading to sepsis), high fever (leading to neurological problems), dehydration (from excessive vomiting and diarrhea), electrolyte imbalance and kidney failure. Fatalities are more likely in young children and the elderly.'}, 'highlight': {'text': ['Swine influenza,Signs and symptoms,Humans\\nDirect transmission of a swine <em>flu</em> virus from pigs to humans', 'is occasionally possible (zoonotic swine <em>flu</em>).', 'States Centers for Disease Control and Prevention (CDC), in humans the symptoms of the 2009 \"swine <em>flu</em>', 'The 2009 H1N1 virus is not zoonotic swine <em>flu</em>, as it is not transmitted from pigs to humans, but from', 'diagnosis of probable swine <em>flu</em> requires not only symptoms, but also a high likelihood of swine <em>flu</em>']}}]}})"
      ]
     },
     "execution_count": 107,
     "metadata": {},
     "output_type": "execute_result"
    }
   ],
   "source": [
    "res4"
   ]
  },
  {
   "cell_type": "code",
   "execution_count": 110,
   "id": "081ab674",
   "metadata": {},
   "outputs": [
    {
     "data": {
      "text/plain": [
       "[{'_index': 'cpd',\n",
       "  '_id': '302',\n",
       "  '_score': 12.732269,\n",
       "  '_source': {'section_title': 'Summary',\n",
       "   'text': 'Swine influenza,Summary\\nSwine influenza is an infection caused by any one of several types of swine influenza viruses. Swine influenza virus (SIV) or swine-origin influenza virus (S-OIV) is any strain of the influenza family of viruses that is endemic in pigs. As of 2009, the known SIV strains include influenza C and the subtypes of  influenza A known as H1N1, H1N2, H2N1, H3N1, H3N2, and H2N3.\\nSwine influenza virus is common throughout pig populations worldwide. Transmission of the virus from pigs to humans is not common and does not always lead to human flu, often resulting only in the production of antibodies in the blood. If transmission does cause human flu, it is called zoonotic swine flu. People with regular exposure to pigs are at increased risk of swine flu infection.\\nAround the mid-20th century, identification of influenza subtypes became possible, allowing accurate diagnosis of transmission to humans. Since then, only 50 such transmissions have been confirmed. These strains of swine flu rarely pass from human to human. Symptoms of zoonotic swine flu in humans are similar to those of influenza and of influenza-like illness in general, namely chills, fever, sore throat, muscle pains, severe headache, coughing, weakness, shortness of breath, and general discomfort.\\nIt is estimated that in the 2009 flu pandemic 11–21% of the then global population (of about 6.8 billion), or around 700 million to 1.4 billion people, contracted the illness—more in absolute terms than the Spanish flu pandemic. There were 18,449 confirmed fatalities. However, in a 2012 study, the CDC estimated more than 284,000 possible fatalities worldwide, with range from 150,000 to 575,000.\\nIn August 2010, the World Health Organization declared the swine flu pandemic officially over.Subsequent cases of swine flu were reported in India in 2015, with over 31,156 positive test cases and 1,841 deaths up to March 2015.'},\n",
       "  'highlight': {'section_title': ['<em>Summary</em>'],\n",
       "   'text': ['If transmission does cause human <em>flu</em>, it is called zoonotic swine <em>flu</em>.',\n",
       "    'People with regular exposure to pigs are at increased risk of swine <em>flu</em> infection.',\n",
       "    'These strains of swine <em>flu</em> rarely pass from human to human.',\n",
       "    'or around 700 million to 1.4 billion people, contracted the illness—more in absolute terms than the <em>Spanish</em>',\n",
       "    '<em>flu</em> pandemic.']}},\n",
       " {'_index': 'cpd',\n",
       "  '_id': '0',\n",
       "  '_score': 11.891769,\n",
       "  '_source': {'section_title': 'Summary',\n",
       "   'text': 'Pandemic,Summary\\nA pandemic (from Greek πᾶν, pan, \"all\" and δῆμος, demos, \"people\") is an epidemic of an infectious disease that has spread across a large region, for instance multiple continents or worldwide, affecting a substantial number of people. A widespread endemic disease with a stable number of infected people is not a pandemic. Widespread endemic diseases with a stable number of infected people such as recurrences of seasonal influenza are generally excluded as they occur simultaneously in large regions of the globe rather than being spread worldwide.\\nThroughout human history, there have been a number of pandemics of diseases such as smallpox and tuberculosis. The most fatal pandemic in recorded history was the Black Death (also known as The Plague), which killed an estimated 75–200 million people in the 14th century. The term was not used yet but was for later pandemics including the 1918 influenza pandemic (Spanish flu). Current pandemics include COVID-19 (SARS-CoV-2) and HIV/AIDS.'},\n",
       "  'highlight': {'section_title': ['<em>Summary</em>'],\n",
       "   'text': ['The term was not used yet but was for later pandemics including the 1918 influenza pandemic (<em>Spanish</em>',\n",
       "    '<em>flu</em>).']}},\n",
       " {'_index': 'cpd',\n",
       "  '_id': '9',\n",
       "  '_score': 9.171614,\n",
       "  '_source': {'section_title': 'Influenza',\n",
       "   'text': 'Pandemic,Notable outbreaks,Major outbreaks in countries,Influenza\\nThe Greek physician Hippocrates, the \"Father of Medicine\", first described influenza in 412 BC.\\nThe first influenza pandemic to be pathologically described occurred in 1510. Since the pandemic of 1580, influenza pandemics have occurred every 10 to 30 years.\\nThe 1889–1890 flu pandemic, also known as Russian Flu or Asiatic Flu, was first reported in May 1889 in Bukhara, Uzbekistan. By October, it had reached Tomsk and the Caucasus. It rapidly spread west and hit North America in December 1889, South America in February–April 1890, India in February–March 1890, and Australia in March–April 1890. The H3N8 and H2N2 subtypes of the Influenza A virus have each been identified as possible causes. It had a very high attack and mortality rate, causing around a million fatalities.\\nThe \"Spanish flu\", 1918–1919. First identified early in March 1918 in U.S. troops training at Camp Funston, Kansas. By October 1918, it had spread to become a worldwide pandemic on all continents, and eventually infected about one-third of the world\\'s population (or ≈500 million persons). Unusually deadly and virulent, it ended almost as quickly as it began, vanishing completely within 18 months. Within six months, some 50 million people were dead; some estimates put the total number of fatalities worldwide at over twice that number. About 17 million died in India, 675,000 in the United States, and 200,000 in the United Kingdom. The virus that caused Spanish flu was also implicated as a cause of encephalitis lethargica in children. The virus was recently reconstructed by scientists at the CDC studying remains preserved by the Alaskan permafrost. The H1N1 virus has a small but crucial structure that is similar to the Spanish flu.\\nThe \"Asian Flu\", 1957–58. A H2N2 virus first identified in China in late February 1957. It caused about two million deaths globally.\\nThe \"Hong Kong Flu\", 1968–69. A H3N2 virus first detected in Hong Kong in early 1968 and spread across the world, lasting until 1972. This pandemic killed approximately one million people worldwide.\\nThe \"Swine Flu\", 2009–10. An H1N1 virus first detected in Mexico in early 2009. Estimates for the mortality of this pandemic range from 150 to 500 thousand.'},\n",
       "  'highlight': {'text': ['The 1889–1890 <em>flu</em> pandemic, also known as Russian <em>Flu</em> or Asiatic <em>Flu</em>, was first reported in May 1889',\n",
       "    'The \"<em>Spanish</em> <em>flu</em>\", 1918–1919.',\n",
       "    'The virus that caused <em>Spanish</em> <em>flu</em> was also implicated as a cause of encephalitis lethargica in children',\n",
       "    'The H1N1 virus has a small but crucial structure that is similar to the <em>Spanish</em> <em>flu</em>.',\n",
       "    'The \"Hong Kong <em>Flu</em>\", 1968–69.']}},\n",
       " {'_index': 'cpd',\n",
       "  '_id': '174',\n",
       "  '_score': 8.41239,\n",
       "  '_source': {'section_title': 'In popular culture',\n",
       "   'text': 'Disease X,In popular culture,Candidates\\nIn 2018, the Museum of London ran an exhibition titled \"Disease X: London\\'s next epidemic?\", hosted for the centenary of the Spanish flu epidemic from 1918.The term features in the title of several fiction books that involve global pandemic diseases, such as Disease  (2020), and Disease X: The Outbreak (2019).'},\n",
       "  'highlight': {'text': [', hosted for the centenary of the <em>Spanish</em> <em>flu</em> epidemic from 1918.The term features in the title of several']}},\n",
       " {'_index': 'cpd',\n",
       "  '_id': '339',\n",
       "  '_score': 7.3797274,\n",
       "  '_source': {'section_title': 'Summary',\n",
       "   'text': \"Unified Victim Identification System,Summary\\nThe Unified Victim Identification System (UVIS) is an Internet-enabled database system developed for the Office of Chief Medical Examiner of the City of New York (OCME) in the aftermath of the September 11 attacks on New York City and the crash of American Airlines Flight 587.  It is intended to handle critical fatality management functions made necessary by a major disaster. UVIS is a strong flexible role-based application and permissions can be controlled dynamically.In the event of a mass casualty event, it will initially be used by New York City's 311 call center operators, the New York Police Department, and OCME to gather key information to facilitate compiling an accurate list of missing persons.  UVIS will also be used by the OCME to track decedents and collect postmortem findings to facilitate the identification process after a disaster.  UVIS also contains a Pandemic Flu module to prepare against such an eventuality.  UVIS is a strong flexible role-based application and permissions can be controlled dynamically.\\nUVIS was built for the OCME by Nihilent, a consulting & solution integration company, and is a leading design thinking company, (formerly known as ICRA Sapphire).Developed with public funds, UVIS is available to municipalities, counties, states, and other governmental agencies without charge, under license from New York City. Currently UVIS is in use at the Office of Chief Medical Examiner of the City of New York (OCME) and the State of New Jersey (OCSME).\"},\n",
       "  'highlight': {'section_title': ['<em>Summary</em>'],\n",
       "   'text': ['UVIS also contains a Pandemic <em>Flu</em> module to prepare against such an eventuality.']}},\n",
       " {'_index': 'cpd',\n",
       "  '_id': '22',\n",
       "  '_score': 7.022901,\n",
       "  '_source': {'section_title': 'H5N1 (Avian flu)',\n",
       "   'text': 'Pandemic,Concerns about future pandemics,Concerning diseases,H5N1 (Avian flu)\\nIn February 2004, avian influenza virus was detected in birds in Vietnam, increasing fears of the emergence of new variant strains. It is feared that if the avian influenza virus combines with a human influenza virus (in a bird or a human), the new subtype created could be both highly contagious and highly lethal in humans. Such a subtype could cause a global influenza pandemic, similar to the Spanish flu or the lower mortality pandemics such as the Asian Flu and the Hong Kong Flu.\\nFrom October 2004 to February 2005, some 3,700 test kits of the 1957 Asian Flu virus were accidentally spread around the world from a lab in the U.S.In May 2005, scientists urgently called upon nations to prepare for a global influenza pandemic that could strike as much as 20% of the world\\'s population.In October 2005, cases of the avian flu (the deadly strain H5N1) were identified in Turkey. EU Health Commissioner Markos Kyprianou said: \"We have received now confirmation that the virus found in Turkey is an avian flu H5N1 virus. There is a direct relationship with viruses found in Russia, Mongolia and China.\" Cases of bird flu were also identified shortly thereafter in Romania, and then Greece. Possible cases of the virus have also been found in Croatia, Bulgaria and the United Kingdom.By November 2007, numerous confirmed cases of the H5N1 strain had been identified across Europe. However, by the end of October, only 59 people had died as a result of H5N1, which was atypical of previous influenza pandemics.\\nAvian flu cannot be categorized as a \"pandemic\" because the virus cannot yet cause sustained and efficient human-to-human transmission. Cases so far are recognized to have been transmitted from bird to human, but as of December 2006 there had been few (if any) cases of proven human-to-human transmission. Regular influenza viruses establish infection by attaching to receptors in the throat and lungs, but the avian influenza virus can attach only to receptors located deep in the lungs of humans, requiring close, prolonged contact with infected patients, and thus limiting person-to-person transmission.'},\n",
       "  'highlight': {'text': ['Pandemic,Concerns about future pandemics,Concerning diseases,H5N1 (Avian <em>flu</em>)\\nIn February 2004, avian',\n",
       "    'Such a subtype could cause a global influenza pandemic, similar to the <em>Spanish</em> <em>flu</em> or the lower mortality',\n",
       "    'pandemics such as the Asian <em>Flu</em> and the Hong Kong <em>Flu</em>.',\n",
       "    'From October 2004 to February 2005, some 3,700 test kits of the 1957 Asian <em>Flu</em> virus were accidentally',\n",
       "    'Cases of bird <em>flu</em> were also identified shortly thereafter in Romania, and then Greece.']}},\n",
       " {'_index': 'cpd',\n",
       "  '_id': '253',\n",
       "  '_score': 6.203658,\n",
       "  '_source': {'section_title': 'Guidelines',\n",
       "   'text': 'Pandemic severity index,Guidelines\\nThe index focuses less on how likely a disease will spread worldwide – that is, become a pandemic – and more upon how severe the epidemic actually is.\\nThe main criterion used to measure pandemic severity will be case-fatality rate (CFR), the percentage of deaths out of the total reported cases of the disease.The actual implementation of PSI alerts was expected to occur after the World Health Organization (WHO) announces phase 6 influenza transmission (human to human) in the United States. This would probably result in immediate announcement of a PSI level 3–4 situation.The analogy of \"category\" levels were introduced to provide an understandable connection to hurricane classification schemes, with specific reference to the recent aftermath of Hurricane Katrina.\\nLike the Saffir–Simpson Hurricane Scale, the PSI ranges from 1 to 5, with Category 1 pandemics being most mild (equivalent to seasonal flu) and level 5 being reserved for the most severe \"worst-case\" scenario pandemics (such as the 1918 Spanish flu).\\n\\nThe report recommends four primary social distancing measures for slowing down a pandemic:\\n\\nIsolation and treatment of people who have suspected or confirmed cases of pandemic influenza\\nVoluntary home quarantine of household contacts of those with suspected or confirmed pandemic influenza\\nDismissing school classes and closing daycare centers\\nChanging work schedules and canceling large public gatheringsThese actions, when implemented, can have an overall effect of reducing the number of new cases of the disease; but they can carry potentially adverse consequences in terms of community and social disruption. The measures should have the most noticeable impact if implemented uniformly by organizations and governments across the US.'},\n",
       "  'highlight': {'text': ['Scale, the PSI ranges from 1 to 5, with Category 1 pandemics being most mild (equivalent to seasonal <em>flu</em>',\n",
       "    ') and level 5 being reserved for the most severe \"worst-case\" scenario pandemics (such as the 1918 <em>Spanish</em>',\n",
       "    '<em>flu</em>).']}},\n",
       " {'_index': 'cpd',\n",
       "  '_id': '278',\n",
       "  '_score': 5.680986,\n",
       "  '_source': {'section_title': 'Later',\n",
       "   'text': '1929–1930 psittacosis pandemic,North America,Africa,Later\\n43 of the 74 foci in the U.S. were traced to contact with Amazon parrots. Links were traced to Japan, Caribbean, Germany, Central America and South America. Between November 1929 and May 1930, the U.S. recorded 169 cases, of which 33 died. New York was the centre of the East Coast bird trade. However, the principal ports of entry for Australian budgerigars was San Francisco and Los Angeles. Later, it was discovered that the main source was domestic lovebirds raised in hundreds of independent Californian aviaries by breeders who were supplementing their incomes following the recent Wall Street Crash. The winter of 1929 was also witnessing an influenza epidemic and there were fears of a recurrence of Spanish flu,which added to the depressive effects. In this context, peddlers travelled door-to-door with “lovebirds” for housewives and widows. As a result, most victims in the U.S. were women. The realisation and connections of the various outbreaks may not have become apparent had it not been for the press. Likewise, the \"hysteria\" and heightened public concern surrounding the pandemic may not have occurred had it not been for headlines such as “Killed By A Pet Parrot.”The establishment of the National Institutes of Health is directly linked to the outbreak that occurred in Maryland. Its story was retold in Paul de Kruif\\'s, Men Against Death (1933).'},\n",
       "  'highlight': {'text': ['The winter of 1929 was also witnessing an influenza epidemic and there were fears of a recurrence of <em>Spanish</em>',\n",
       "    '<em>flu</em>,which added to the depressive effects.']}},\n",
       " {'_index': 'cpd',\n",
       "  '_id': '10',\n",
       "  '_score': 4.6167145,\n",
       "  '_source': {'section_title': 'Typhus',\n",
       "   'text': 'Pandemic,Notable outbreaks,Major outbreaks in countries,Typhus\\nTyphus is sometimes called \"camp fever\" because of its pattern of flaring up in times of strife. (It is also known as \"gaol fever\" and \"ship fever\", for its habits of spreading wildly in cramped quarters, such as jails and ships.) Emerging during the Crusades, it had its first impact in Europe in 1489, in Spain. During fighting between the Christian Spaniards and the Muslims in Granada, the Spanish lost 3,000 to war casualties, and 20,000 to typhus. In 1528, the French lost 18,000 troops in Italy, and lost supremacy in Italy to the Spanish. In 1542, 30,000 soldiers died of typhus while fighting the Ottomans in the Balkans.\\nDuring the Thirty Years\\' War (1618–1648), about eight million Germans were killed by bubonic plague and typhus. The disease also played a major role in the destruction of Napoleon\\'s Grande Armée in Russia in 1812. During the retreat from Moscow, more French military personnel died of typhus than were killed by the Russians. Of the 450,000 soldiers who crossed the Neman on 25 June 1812, fewer than 40,000 returned. More military personnel were killed from 1500 to 1914 by typhus than from military action. In early 1813, Napoleon raised a new army of 500,000 to replace his Russian losses. In the campaign of that year, more than 219,000 of Napoleon\\'s soldiers died of typhus. Typhus played a major factor in the Great Famine of Ireland. During World War I, typhus epidemics killed more than 150,000 in Serbia. There were about 25 million infections and 3 million deaths from epidemic typhus in Russia from 1918 to 1922. Typhus also killed numerous prisoners in the Nazi concentration camps and Soviet prisoner of war camps during World War II. More than 3.5 million Soviet POWs died out of the 5.7 million in Nazi custody.'},\n",
       "  'highlight': {'text': ['During fighting between the Christian Spaniards and the Muslims in Granada, the <em>Spanish</em> lost 3,000 to',\n",
       "    'In 1528, the French lost 18,000 troops in Italy, and lost supremacy in Italy to the <em>Spanish</em>.']}},\n",
       " {'_index': 'cpd',\n",
       "  '_id': '304',\n",
       "  '_score': 4.179197,\n",
       "  '_source': {'section_title': 'Humans',\n",
       "   'text': 'Swine influenza,Signs and symptoms,Humans\\nDirect transmission of a swine flu virus from pigs to humans is occasionally possible (zoonotic swine flu). In all, 50 cases are known to have occurred since the first report in medical literature in 1958, which have resulted in a total of six deaths. Of these six people, one was pregnant, one had leukemia, one had Hodgkin\\'s lymphoma and two were known to be previously healthy. One of these had unknown whereabouts. Despite these apparently low numbers of infections, the true rate of infection may be higher, since most cases only cause a very mild disease, and will probably never be reported or diagnosed.\\n\\nAccording to the United States Centers for Disease Control and Prevention (CDC), in humans the symptoms of the 2009 \"swine flu\" H1N1 virus are similar to influenza and influenza-like illness in general. Symptoms include fever, cough, sore throat, watery eyes, body aches, shortness of breath, headache, weight loss, chills, sneezing, runny nose, coughing, dizziness, abdominal pain, lack of appetite, and fatigue. The 2009 outbreak showed an increased percentage of patients reporting diarrhea and vomiting as well. The 2009 H1N1 virus is not zoonotic swine flu, as it is not transmitted from pigs to humans, but from person to person through airborne droplets.Because these symptoms are not specific to swine flu, a differential diagnosis of probable swine flu requires not only symptoms, but also a high likelihood of swine flu due to the person\\'s recent and past medical history. For example, during the 2009 swine flu outbreak in the United States, the CDC advised physicians to \"consider swine influenza infection in the differential diagnosis of patients with acute febrile respiratory illness who have either been in contact with persons with confirmed swine flu, or who were in one of the five U.S. states that have reported swine flu cases or in Mexico during the seven days preceding their illness onset.\" A diagnosis of confirmed swine flu requires laboratory testing of a respiratory sample (a simple nose and throat swab).The most common cause of death is respiratory failure. Other causes of death are pneumonia (leading to sepsis), high fever (leading to neurological problems), dehydration (from excessive vomiting and diarrhea), electrolyte imbalance and kidney failure. Fatalities are more likely in young children and the elderly.'},\n",
       "  'highlight': {'text': ['Swine influenza,Signs and symptoms,Humans\\nDirect transmission of a swine <em>flu</em> virus from pigs to humans',\n",
       "    'is occasionally possible (zoonotic swine <em>flu</em>).',\n",
       "    'States Centers for Disease Control and Prevention (CDC), in humans the symptoms of the 2009 \"swine <em>flu</em>',\n",
       "    'The 2009 H1N1 virus is not zoonotic swine <em>flu</em>, as it is not transmitted from pigs to humans, but from',\n",
       "    'diagnosis of probable swine <em>flu</em> requires not only symptoms, but also a high likelihood of swine <em>flu</em>']}}]"
      ]
     },
     "execution_count": 110,
     "metadata": {},
     "output_type": "execute_result"
    }
   ],
   "source": [
    "#Unpacking the results here\n",
    "docs=res4['hits']['hits']\n",
    "docs"
   ]
  },
  {
   "cell_type": "code",
   "execution_count": null,
   "id": "ae70a216",
   "metadata": {},
   "outputs": [],
   "source": []
  }
 ],
 "metadata": {
  "kernelspec": {
   "display_name": "Python 3 (ipykernel)",
   "language": "python",
   "name": "python3"
  },
  "language_info": {
   "codemirror_mode": {
    "name": "ipython",
    "version": 3
   },
   "file_extension": ".py",
   "mimetype": "text/x-python",
   "name": "python",
   "nbconvert_exporter": "python",
   "pygments_lexer": "ipython3",
   "version": "3.9.13"
  }
 },
 "nbformat": 4,
 "nbformat_minor": 5
}
